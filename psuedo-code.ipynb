{
 "cells": [
  {
   "cell_type": "code",
   "execution_count": 3,
   "metadata": {},
   "outputs": [],
   "source": [
    "# Import necessary modules\n",
    "from flask import Flask, request, jsonify\n",
    "from dotenv import load_dotenv\n",
    "import openai\n",
    "from openai import OpenAI\n",
    "import uuid\n",
    "import os"
   ]
  },
  {
   "cell_type": "code",
   "execution_count": 4,
   "metadata": {},
   "outputs": [],
   "source": [
    "load_dotenv()\n",
    "OPEN_AI_API_KEY = os.getenv(\"API_KEY\")\n",
    "client = OpenAI(api_key = OPEN_AI_API_KEY)"
   ]
  },
  {
   "cell_type": "code",
   "execution_count": 2,
   "metadata": {},
   "outputs": [],
   "source": [
    "app = Flask(__name__)"
   ]
  },
  {
   "cell_type": "code",
   "execution_count": 5,
   "metadata": {},
   "outputs": [],
   "source": [
    "documents = {}\n",
    "test_answers = {}"
   ]
  },
  {
   "cell_type": "code",
   "execution_count": null,
   "metadata": {},
   "outputs": [],
   "source": [
    "#Endpoint to upload research paper\n",
    "@app.route(\"/upload\", methods=['POST'])\n",
    "def upload():\n",
    "    if \"files\" not in request.files:                  #check if file is empty\n",
    "        return jsonify({\"Error\": \"No File \"}), 400\n",
    "    file = request.files['files']\n",
    "    document_id = str(uuid.uuid4())\n",
    "\n",
    "    #storing document\n",
    "    documents[document_id] = file.read().decode(\"utf-8\")\n",
    "    test_answer = Gen_answer(documents[document_id])\n",
    "    test_answers[document_id] = test_answer              #tricky variable declaration\n",
    "    return jsonify({\"document_id\": document_id, \"message\":\"Document Successfully uploaded\"}), 200\n",
    "\n",
    "#utilizing Openai APi to generate test answer\n",
    "def Gen_answer(documents):    \n",
    "    response = assistant.create(\n",
    "        model=\"gpt-3.5-turbo-1106\",\n",
    "        messages=[\n",
    "            {\"role\": \"system\", \"content\": \"You are my research assistant.\"},\n",
    "            {\"role\": \"user\", \"content\": f\"Generate a test answer for the following document:\\n{document_text}\"}\n",
    "        ]\n",
    "    )\n",
    "    return response['choices'][0]['message']['content']"
   ]
  },
  {
   "cell_type": "code",
   "execution_count": null,
   "metadata": {},
   "outputs": [],
   "source": [
    "#Endpoint to many the Q>A>T session\n",
    "@app.route('/query/<string:document_id>/', methods=['POST'])\n",
    "def query_document(document_id):\n",
    "    if document_id not in documents:\n",
    "        return jsonify({\"error\": \"Document not found\"}), 404\n",
    "\n",
    "    data = request.get_json()\n",
    "    question = data.get(\"question\")\n",
    "\n",
    "    if not question:\n",
    "        return jsonify({\"error\": \"Question not provided\"}), 400\n",
    "    \n",
    "    #Generate test Question\n",
    "    test_questions_id = str(uuid.uuid4)\n",
    "    test_question = generate_test_question(question)\n",
    "\n",
    "    # Simulate a test answer retrieval from the database\n",
    "    #test_answer = test_answers.get(document_id, \"\") \n",
    "\n",
    "    response = {\n",
    "        \"answer\": generate_answer(question, documents[document_id]),\n",
    "        \"bullet_points\": [\"Point 1\", \"Point 2\", \"Point 3\"],\n",
    "        \"test_question\": test_question,\n",
    "        \"test_question_id\": test_questions_id,\n",
    "    }\n",
    "\n",
    "    return jsonify(response)\n",
    "\n",
    "# Generate a test question using OpenAI Assistant API\n",
    "def generate_test_question(question):\n",
    "    # Use OpenAI Assistant API to generate a test question based on the user's question\n",
    "    response = assistant.append_message(\n",
    "        model=\"text-davinci-003\",\n",
    "        messages=[\n",
    "            {\"role\": \"system\", \"content\": \"You are a helpful assistant.\"},\n",
    "            {\"role\": \"user\", \"content\": f\"Generate a test question for the following user question:\\n{question}\"}\n",
    "        ]\n",
    "    )\n",
    "    \n",
    "    test_question_content = response['choices'][0]['message']['content']\n",
    "    \n",
    "    return test_question_content\n",
    "\n",
    "# Generate an answer using OpenAI Assistant API\n",
    "def generate_answer(question, document_text):\n",
    "    # Use OpenAI Assistant API to generate an answer based on the user's question and document\n",
    "    response = assistant.append_message(\n",
    "        model=\"text-davinci-003\",\n",
    "        messages=[\n",
    "            {\"role\": \"system\", \"content\": \"You are a helpful assistant.\"},\n",
    "            {\"role\": \"user\", \"content\": f\"{question}\\nDocument: {document_text}\"}\n",
    "        ]\n",
    "    )\n",
    "    \n",
    "    answer_content = response['choices'][0]['message']['content']\n",
    "    \n",
    "    return answer_content"
   ]
  },
  {
   "cell_type": "code",
   "execution_count": null,
   "metadata": {},
   "outputs": [],
   "source": [
    "# Endpoint for evaluating user response to the test question\n",
    "@app.route('/evaluate/<string:test_question_id>/', methods=['POST'])\n",
    "def evaluate_response(test_question_id):\n",
    "    data = request.get_json()\n",
    "    user_answer = data.get(\"user_answer\")\n",
    "\n",
    "    if not user_answer:\n",
    "        return jsonify({\"error\": \"User answer not provided\"}), 400\n",
    "\n",
    "    # Simulate fetching the correct test answer from the database\n",
    "    correct_answer = test_answers.get(test_question_id, \"\")\n",
    "\n",
    "    # Compare user's answer with the correct answer\n",
    "    knowledge_understood = (user_answer.lower() == correct_answer.lower())\n",
    "    \n",
    "    # Confidence is set to 75% for simplicity\n",
    "    knowledge_confidence = 75\n",
    "\n",
    "    response = {\n",
    "        \"knowledge_understood\": knowledge_understood,\n",
    "        \"knowledge_confidence\": knowledge_confidence\n",
    "    }\n",
    "\n",
    "    return jsonify(response)\n"
   ]
  },
  {
   "cell_type": "code",
   "execution_count": null,
   "metadata": {},
   "outputs": [],
   "source": [
    "if __name__ == \"__main__\":\n",
    "    app.run()"
   ]
  }
 ],
 "metadata": {
  "kernelspec": {
   "display_name": "base",
   "language": "python",
   "name": "python3"
  },
  "language_info": {
   "codemirror_mode": {
    "name": "ipython",
    "version": 3
   },
   "file_extension": ".py",
   "mimetype": "text/x-python",
   "name": "python",
   "nbconvert_exporter": "python",
   "pygments_lexer": "ipython3",
   "version": "3.10.9"
  }
 },
 "nbformat": 4,
 "nbformat_minor": 2
}
