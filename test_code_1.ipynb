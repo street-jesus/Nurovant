{
 "cells": [
  {
   "cell_type": "code",
   "execution_count": 1,
   "metadata": {},
   "outputs": [],
   "source": [
    "import os\n",
    "import uuid\n",
    "from openai import OpenAI\n",
    "from dotenv import load_dotenv\n",
    "from flask import Flask, request, jsonify, render_template"
   ]
  },
  {
   "cell_type": "code",
   "execution_count": 2,
   "metadata": {},
   "outputs": [],
   "source": [
    "load_dotenv()\n",
    "OPEN_AI_API_KEY = os.getenv(\"API_KEY\")\n",
    "client = OpenAI(api_key = OPEN_AI_API_KEY)"
   ]
  },
  {
   "cell_type": "code",
   "execution_count": 3,
   "metadata": {},
   "outputs": [],
   "source": [
    "app = Flask(__name__)"
   ]
  },
  {
   "cell_type": "code",
   "execution_count": 4,
   "metadata": {},
   "outputs": [],
   "source": [
    "documents = {}\n",
    "test_answers = {}"
   ]
  },
  {
   "cell_type": "code",
   "execution_count": 5,
   "metadata": {},
   "outputs": [],
   "source": [
    "@app.route(\"/\")\n",
    "def index():\n",
    "    return render_template(\"upload.html\")\n",
    "\n",
    "@app.route(\"/upload\", methods=['POST'])\n",
    "def upload():\n",
    "    if \"files\" not in request.files:\n",
    "        return jsonify({\"Error\": \"No file uploaded\"}), 400\n",
    "\n",
    "    file = request.files[\"files\"]\n",
    "    document_id = str(uuid.uuid4())\n",
    "\n",
    "    try:\n",
    "        # Read the file content and decode it (consider using an in-memory buffer for larger files)\n",
    "        document_text = file.read().decode(\"ISO-8859-1\")  # Adjust encoding as needed\n",
    "        file.close()\n",
    "\n",
    "        # Call the helper function to summarize the document using Assistant\n",
    "        summary = summarize_file(document_text)\n",
    "        return jsonify({\"document_id\": document_id}), 200\n",
    "    except Exception as e:\n",
    "        return jsonify({\"Error\": f\"An error occurred: {e}\"}), 500\n",
    "\n",
    "\n",
    "def summarize_file(doc):\n",
    "    try:\n",
    "        # Create OpenAI file object (consider using a temporary file for large documents)\n",
    "        with OpenAI.File.create(content=doc, purpose=\"assistants\") as file_obj:\n",
    "            # Create assistant with file access\n",
    "            assistant = OpenAI.Assistant.create(\n",
    "                name=\"Data Summarizer\",\n",
    "                description=\"You are great at summarizing data from files. You also share a brief text summary of the file.\",\n",
    "                model=\"gpt-3.5-turbo-1106\",  # Adjust model as needed\n",
    "                file_ids=[file_obj.id],\n",
    "                tasks=[\n",
    "                    OpenAI.Task.complete(\n",
    "                        prompt=f\"Summarize the following document:\\n{doc}\",\n",
    "                        max_tokens=150,  # Adjust number of tokens for summary length\n",
    "                        n=1,\n",
    "                        stop=None,\n",
    "                        temperature=0.7,\n",
    "                    )\n",
    "                ],\n",
    "            )\n",
    "\n",
    "            # Extract and return the summary\n",
    "            summary = assistant.response.choices[0].text.strip()\n",
    "            return summary\n",
    "    except Exception as e:\n",
    "        return jsonify({\"Error\": f\"Error generating summary: {e}\"}), 500\n",
    "\n",
    "    \n",
    "def Gen_answer(document_text):\n",
    "    try:\n",
    "        response = client.beta.assistants.create(  # Remove the 'messages' argument\n",
    "            model=\"gpt-3.5-turbo-1106\",\n",
    "            content=f\"Generate a test answer for the following document:\\n{document_text}\"\n",
    "        )\n",
    "        return response\n",
    "    except Exception as e:\n",
    "        return jsonify({\"Error\": \"Error generating answer from OpenAI API: {}\".format(e)}), 500\n",
    "\n",
    "# \"\"\"\n",
    "# def Gen_answer(document_text):\n",
    "#     try:\n",
    "#         response = client.beta.assistants.create(\n",
    "#             model=\"gpt-3.5-turbo-1106\",\n",
    "#             messages=[\n",
    "#                 {\"role\": \"system\", \"content\": \"You are my research assistant.\"},\n",
    "#                 {\"role\": \"user\", \"content\": f\"Generate a test answer for the following document:\\n{document_text}\"}\n",
    "#             ]\n",
    "#         )\n",
    "#         return response\n",
    "#     except Exception as e:\n",
    "#         return jsonify({\"Error\": \"Error generating answer from OpenAI API: {}\".format(e)}), 500\n"
   ]
  },
  {
   "cell_type": "code",
   "execution_count": 6,
   "metadata": {},
   "outputs": [
    {
     "name": "stdout",
     "output_type": "stream",
     "text": [
      " * Serving Flask app '__main__'\n",
      " * Debug mode: off\n"
     ]
    },
    {
     "name": "stderr",
     "output_type": "stream",
     "text": [
      "WARNING: This is a development server. Do not use it in a production deployment. Use a production WSGI server instead.\n",
      " * Running on http://127.0.0.1:5000\n",
      "Press CTRL+C to quit\n",
      "127.0.0.1 - - [03/Mar/2024 09:27:09] \"GET / HTTP/1.1\" 200 -\n",
      "127.0.0.1 - - [03/Mar/2024 09:27:28] \"POST /upload HTTP/1.1\" 500 -\n"
     ]
    }
   ],
   "source": [
    "if __name__ == \"__main__\":\n",
    "    app.run()\n"
   ]
  },
  {
   "cell_type": "code",
   "execution_count": null,
   "metadata": {},
   "outputs": [],
   "source": [
    "#Endpoint to many the Q>A>T session\n",
    "@app.route('/query/<string:document_id>/', methods=['POST'])\n",
    "def query_document(document_id):\n",
    "    if document_id not in documents:\n",
    "        return jsonify({\"error\": \"Document not found\"}), 404\n",
    "\n",
    "    data = request.get_json()\n",
    "    question = data.get(\"question\")\n",
    "\n",
    "    if not question:\n",
    "        return jsonify({\"error\": \"Question not provided\"}), 400\n",
    "    \n",
    "    #Generate test Question\n",
    "    test_questions_id = str(uuid.uuid4)\n",
    "    test_question = generate_test_question(question)\n",
    "\n",
    "    # Simulate a test answer retrieval from the database\n",
    "    #test_answer = test_answers.get(document_id, \"\") \n",
    "\n",
    "    response = {\n",
    "        \"answer\": generate_answer(question, documents[document_id]),\n",
    "        \"bullet_points\": [\"Point 1\", \"Point 2\", \"Point 3\"],\n",
    "        \"test_question\": test_question,\n",
    "        \"test_question_id\": test_questions_id,\n",
    "    }\n",
    "\n",
    "    return jsonify(response)\n",
    "\n",
    "# Generate a test question using OpenAI Assistant API\n",
    "def generate_test_question(question):\n",
    "    # Use OpenAI Assistant API to generate a test question based on the user's question\n",
    "    response = assistant.append_message(\n",
    "        model=\"text-davinci-003\",\n",
    "        messages=[\n",
    "            {\"role\": \"system\", \"content\": \"You are a helpful assistant.\"},\n",
    "            {\"role\": \"user\", \"content\": f\"Generate a test question for the following user question:\\n{question}\"}\n",
    "        ]\n",
    "    )\n",
    "    \n",
    "    test_question_content = response['choices'][0]['message']['content']\n",
    "    \n",
    "    return test_question_content\n",
    "\n",
    "# Generate an answer using OpenAI Assistant API\n",
    "def generate_answer(question, document_text):\n",
    "    # Use OpenAI Assistant API to generate an answer based on the user's question and document\n",
    "    response = assistant.append_message(\n",
    "        model=\"text-davinci-003\",\n",
    "        messages=[\n",
    "            {\"role\": \"system\", \"content\": \"You are a helpful assistant.\"},\n",
    "            {\"role\": \"user\", \"content\": f\"{question}\\nDocument: {document_text}\"}\n",
    "        ]\n",
    "    )\n",
    "    \n",
    "    answer_content = response['choices'][0]['message']['content']\n",
    "    \n",
    "    return answer_content\n",
    "\n",
    "    "
   ]
  },
  {
   "cell_type": "code",
   "execution_count": null,
   "metadata": {},
   "outputs": [],
   "source": [
    "\n"
   ]
  }
 ],
 "metadata": {
  "kernelspec": {
   "display_name": "base",
   "language": "python",
   "name": "python3"
  },
  "language_info": {
   "codemirror_mode": {
    "name": "ipython",
    "version": 3
   },
   "file_extension": ".py",
   "mimetype": "text/x-python",
   "name": "python",
   "nbconvert_exporter": "python",
   "pygments_lexer": "ipython3",
   "version": "3.10.9"
  }
 },
 "nbformat": 4,
 "nbformat_minor": 2
}
